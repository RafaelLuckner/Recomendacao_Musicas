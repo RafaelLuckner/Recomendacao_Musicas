{
 "cells": [
  {
   "cell_type": "code",
   "execution_count": null,
   "metadata": {},
   "outputs": [],
   "source": [
    "import numpy as np\n",
    "import pandas as pd\n",
    "from sklearn.model_selection import train_test_split\n",
    "from sklearn.preprocessing import StandardScaler\n",
    "from sklearn.neighbors import NearestNeighbors\n"
   ]
  },
  {
   "cell_type": "markdown",
   "metadata": {},
   "source": [
    "# 0.0 Load data"
   ]
  },
  {
   "cell_type": "code",
   "execution_count": 36,
   "metadata": {},
   "outputs": [
    {
     "data": {
      "text/html": [
       "<div>\n",
       "<style scoped>\n",
       "    .dataframe tbody tr th:only-of-type {\n",
       "        vertical-align: middle;\n",
       "    }\n",
       "\n",
       "    .dataframe tbody tr th {\n",
       "        vertical-align: top;\n",
       "    }\n",
       "\n",
       "    .dataframe thead th {\n",
       "        text-align: right;\n",
       "    }\n",
       "</style>\n",
       "<table border=\"1\" class=\"dataframe\">\n",
       "  <thead>\n",
       "    <tr style=\"text-align: right;\">\n",
       "      <th></th>\n",
       "      <th>track_id</th>\n",
       "      <th>artists</th>\n",
       "      <th>album_name</th>\n",
       "      <th>track_name</th>\n",
       "      <th>popularity</th>\n",
       "      <th>duration_ms</th>\n",
       "      <th>explicit</th>\n",
       "      <th>danceability</th>\n",
       "      <th>energy</th>\n",
       "      <th>key</th>\n",
       "      <th>loudness</th>\n",
       "      <th>mode</th>\n",
       "      <th>speechiness</th>\n",
       "      <th>acousticness</th>\n",
       "      <th>instrumentalness</th>\n",
       "      <th>liveness</th>\n",
       "      <th>valence</th>\n",
       "      <th>tempo</th>\n",
       "      <th>time_signature</th>\n",
       "      <th>track_genre</th>\n",
       "    </tr>\n",
       "    <tr>\n",
       "      <th>Unnamed: 0</th>\n",
       "      <th></th>\n",
       "      <th></th>\n",
       "      <th></th>\n",
       "      <th></th>\n",
       "      <th></th>\n",
       "      <th></th>\n",
       "      <th></th>\n",
       "      <th></th>\n",
       "      <th></th>\n",
       "      <th></th>\n",
       "      <th></th>\n",
       "      <th></th>\n",
       "      <th></th>\n",
       "      <th></th>\n",
       "      <th></th>\n",
       "      <th></th>\n",
       "      <th></th>\n",
       "      <th></th>\n",
       "      <th></th>\n",
       "      <th></th>\n",
       "    </tr>\n",
       "  </thead>\n",
       "  <tbody>\n",
       "    <tr>\n",
       "      <th>113983</th>\n",
       "      <td>6X6wIzuxsh7GVNMPz1xTNa</td>\n",
       "      <td>Hillsong Worship</td>\n",
       "      <td>No Other Name</td>\n",
       "      <td>Depths</td>\n",
       "      <td>37</td>\n",
       "      <td>377697</td>\n",
       "      <td>False</td>\n",
       "      <td>0.3630</td>\n",
       "      <td>0.4620</td>\n",
       "      <td>7</td>\n",
       "      <td>-8.232</td>\n",
       "      <td>1</td>\n",
       "      <td>0.0284</td>\n",
       "      <td>0.008870</td>\n",
       "      <td>0.000009</td>\n",
       "      <td>0.7060</td>\n",
       "      <td>0.0687</td>\n",
       "      <td>80.003</td>\n",
       "      <td>4</td>\n",
       "      <td>música mundial</td>\n",
       "    </tr>\n",
       "    <tr>\n",
       "      <th>113980</th>\n",
       "      <td>64BdW5aHuB3C0QP3qjBJVi</td>\n",
       "      <td>I AM THEY</td>\n",
       "      <td>I AM THEY</td>\n",
       "      <td>Amen</td>\n",
       "      <td>41</td>\n",
       "      <td>238146</td>\n",
       "      <td>False</td>\n",
       "      <td>0.5160</td>\n",
       "      <td>0.6340</td>\n",
       "      <td>7</td>\n",
       "      <td>-4.850</td>\n",
       "      <td>1</td>\n",
       "      <td>0.0339</td>\n",
       "      <td>0.030000</td>\n",
       "      <td>0.000002</td>\n",
       "      <td>0.0813</td>\n",
       "      <td>0.0921</td>\n",
       "      <td>76.994</td>\n",
       "      <td>4</td>\n",
       "      <td>música mundial</td>\n",
       "    </tr>\n",
       "    <tr>\n",
       "      <th>113978</th>\n",
       "      <td>7IPetVJ4VQgCT5Sh5VA4h1</td>\n",
       "      <td>Lucas Cervetti</td>\n",
       "      <td>Trempülkalwe</td>\n",
       "      <td>Maremágnum</td>\n",
       "      <td>21</td>\n",
       "      <td>260506</td>\n",
       "      <td>False</td>\n",
       "      <td>0.4050</td>\n",
       "      <td>0.2830</td>\n",
       "      <td>4</td>\n",
       "      <td>-9.471</td>\n",
       "      <td>1</td>\n",
       "      <td>0.0300</td>\n",
       "      <td>0.894000</td>\n",
       "      <td>0.806000</td>\n",
       "      <td>0.1190</td>\n",
       "      <td>0.0813</td>\n",
       "      <td>99.947</td>\n",
       "      <td>4</td>\n",
       "      <td>música mundial</td>\n",
       "    </tr>\n",
       "    <tr>\n",
       "      <th>113977</th>\n",
       "      <td>3FuOBnk7Xsglp7AIsHQVaA</td>\n",
       "      <td>Reiki Armonía</td>\n",
       "      <td>Música Relajante para Reiki - Canciones de Fon...</td>\n",
       "      <td>Paz Mental</td>\n",
       "      <td>21</td>\n",
       "      <td>290999</td>\n",
       "      <td>False</td>\n",
       "      <td>0.0672</td>\n",
       "      <td>0.0903</td>\n",
       "      <td>9</td>\n",
       "      <td>-23.496</td>\n",
       "      <td>1</td>\n",
       "      <td>0.0401</td>\n",
       "      <td>0.970000</td>\n",
       "      <td>0.977000</td>\n",
       "      <td>0.0930</td>\n",
       "      <td>0.0361</td>\n",
       "      <td>76.042</td>\n",
       "      <td>4</td>\n",
       "      <td>música mundial</td>\n",
       "    </tr>\n",
       "    <tr>\n",
       "      <th>113976</th>\n",
       "      <td>11Jywidl4OVzmjziGR0QiO</td>\n",
       "      <td>Urban Rescue</td>\n",
       "      <td>Wild Heart</td>\n",
       "      <td>Alive In You</td>\n",
       "      <td>42</td>\n",
       "      <td>253546</td>\n",
       "      <td>False</td>\n",
       "      <td>0.5220</td>\n",
       "      <td>0.6970</td>\n",
       "      <td>2</td>\n",
       "      <td>-7.210</td>\n",
       "      <td>1</td>\n",
       "      <td>0.0344</td>\n",
       "      <td>0.055700</td>\n",
       "      <td>0.000000</td>\n",
       "      <td>0.1340</td>\n",
       "      <td>0.2880</td>\n",
       "      <td>75.972</td>\n",
       "      <td>4</td>\n",
       "      <td>música mundial</td>\n",
       "    </tr>\n",
       "    <tr>\n",
       "      <th>113974</th>\n",
       "      <td>0VVvjjtKyOeT2AEMTSQ33t</td>\n",
       "      <td>Chris Tomlin</td>\n",
       "      <td>And If Our God Is For Us...</td>\n",
       "      <td>Faithful</td>\n",
       "      <td>34</td>\n",
       "      <td>285120</td>\n",
       "      <td>False</td>\n",
       "      <td>0.6180</td>\n",
       "      <td>0.4190</td>\n",
       "      <td>6</td>\n",
       "      <td>-6.156</td>\n",
       "      <td>1</td>\n",
       "      <td>0.0279</td>\n",
       "      <td>0.309000</td>\n",
       "      <td>0.000000</td>\n",
       "      <td>0.1070</td>\n",
       "      <td>0.3730</td>\n",
       "      <td>131.973</td>\n",
       "      <td>4</td>\n",
       "      <td>música mundial</td>\n",
       "    </tr>\n",
       "    <tr>\n",
       "      <th>113973</th>\n",
       "      <td>1d2LyEJ1zZ0gWtlxyZQpDE</td>\n",
       "      <td>Vertical Worship</td>\n",
       "      <td>The Rock Won't Move</td>\n",
       "      <td>I Will Follow</td>\n",
       "      <td>44</td>\n",
       "      <td>260839</td>\n",
       "      <td>False</td>\n",
       "      <td>0.3190</td>\n",
       "      <td>0.5770</td>\n",
       "      <td>4</td>\n",
       "      <td>-7.679</td>\n",
       "      <td>1</td>\n",
       "      <td>0.0330</td>\n",
       "      <td>0.049900</td>\n",
       "      <td>0.000000</td>\n",
       "      <td>0.7290</td>\n",
       "      <td>0.1890</td>\n",
       "      <td>97.678</td>\n",
       "      <td>4</td>\n",
       "      <td>música mundial</td>\n",
       "    </tr>\n",
       "    <tr>\n",
       "      <th>113972</th>\n",
       "      <td>6xZuzUxNn5AGIPQ2FvXXLP</td>\n",
       "      <td>Mc_team</td>\n",
       "      <td>Frecuencias Curativas Solfeggio 528 Hz</td>\n",
       "      <td>528Hz La frecuencia del amor</td>\n",
       "      <td>21</td>\n",
       "      <td>170387</td>\n",
       "      <td>False</td>\n",
       "      <td>0.1700</td>\n",
       "      <td>0.0520</td>\n",
       "      <td>2</td>\n",
       "      <td>-28.693</td>\n",
       "      <td>1</td>\n",
       "      <td>0.0374</td>\n",
       "      <td>0.875000</td>\n",
       "      <td>0.904000</td>\n",
       "      <td>0.1290</td>\n",
       "      <td>0.0475</td>\n",
       "      <td>114.573</td>\n",
       "      <td>4</td>\n",
       "      <td>música mundial</td>\n",
       "    </tr>\n",
       "    <tr>\n",
       "      <th>113971</th>\n",
       "      <td>4aLBgBxa1ajNoWD3OSDay6</td>\n",
       "      <td>Ondas Delta</td>\n",
       "      <td>Abre Tu Mente: Música con Sonidos Binaurales y...</td>\n",
       "      <td>Ondas Cerebrales Delta</td>\n",
       "      <td>21</td>\n",
       "      <td>359003</td>\n",
       "      <td>False</td>\n",
       "      <td>0.3120</td>\n",
       "      <td>0.0330</td>\n",
       "      <td>9</td>\n",
       "      <td>-25.894</td>\n",
       "      <td>1</td>\n",
       "      <td>0.0307</td>\n",
       "      <td>0.853000</td>\n",
       "      <td>0.851000</td>\n",
       "      <td>0.1140</td>\n",
       "      <td>0.0639</td>\n",
       "      <td>79.655</td>\n",
       "      <td>4</td>\n",
       "      <td>música mundial</td>\n",
       "    </tr>\n",
       "    <tr>\n",
       "      <th>113970</th>\n",
       "      <td>3IxffkznUu2I4mx9OWibW5</td>\n",
       "      <td>Cuencos Tibetanos Sonidos Relajantes</td>\n",
       "      <td>Tibetanos Sonidos Relajantes</td>\n",
       "      <td>De Conexion</td>\n",
       "      <td>21</td>\n",
       "      <td>96302</td>\n",
       "      <td>False</td>\n",
       "      <td>0.1210</td>\n",
       "      <td>0.2420</td>\n",
       "      <td>8</td>\n",
       "      <td>-17.980</td>\n",
       "      <td>1</td>\n",
       "      <td>0.0375</td>\n",
       "      <td>0.000878</td>\n",
       "      <td>0.813000</td>\n",
       "      <td>0.1200</td>\n",
       "      <td>0.0362</td>\n",
       "      <td>85.784</td>\n",
       "      <td>4</td>\n",
       "      <td>música mundial</td>\n",
       "    </tr>\n",
       "  </tbody>\n",
       "</table>\n",
       "</div>"
      ],
      "text/plain": [
       "                          track_id                               artists  \\\n",
       "Unnamed: 0                                                                 \n",
       "113983      6X6wIzuxsh7GVNMPz1xTNa                      Hillsong Worship   \n",
       "113980      64BdW5aHuB3C0QP3qjBJVi                             I AM THEY   \n",
       "113978      7IPetVJ4VQgCT5Sh5VA4h1                        Lucas Cervetti   \n",
       "113977      3FuOBnk7Xsglp7AIsHQVaA                         Reiki Armonía   \n",
       "113976      11Jywidl4OVzmjziGR0QiO                          Urban Rescue   \n",
       "113974      0VVvjjtKyOeT2AEMTSQ33t                          Chris Tomlin   \n",
       "113973      1d2LyEJ1zZ0gWtlxyZQpDE                      Vertical Worship   \n",
       "113972      6xZuzUxNn5AGIPQ2FvXXLP                               Mc_team   \n",
       "113971      4aLBgBxa1ajNoWD3OSDay6                           Ondas Delta   \n",
       "113970      3IxffkznUu2I4mx9OWibW5  Cuencos Tibetanos Sonidos Relajantes   \n",
       "\n",
       "                                                   album_name  \\\n",
       "Unnamed: 0                                                      \n",
       "113983                                          No Other Name   \n",
       "113980                                              I AM THEY   \n",
       "113978                                           Trempülkalwe   \n",
       "113977      Música Relajante para Reiki - Canciones de Fon...   \n",
       "113976                                             Wild Heart   \n",
       "113974                            And If Our God Is For Us...   \n",
       "113973                                    The Rock Won't Move   \n",
       "113972                 Frecuencias Curativas Solfeggio 528 Hz   \n",
       "113971      Abre Tu Mente: Música con Sonidos Binaurales y...   \n",
       "113970                           Tibetanos Sonidos Relajantes   \n",
       "\n",
       "                              track_name  popularity  duration_ms  explicit  \\\n",
       "Unnamed: 0                                                                    \n",
       "113983                            Depths          37       377697     False   \n",
       "113980                              Amen          41       238146     False   \n",
       "113978                        Maremágnum          21       260506     False   \n",
       "113977                        Paz Mental          21       290999     False   \n",
       "113976                      Alive In You          42       253546     False   \n",
       "113974                          Faithful          34       285120     False   \n",
       "113973                     I Will Follow          44       260839     False   \n",
       "113972      528Hz La frecuencia del amor          21       170387     False   \n",
       "113971            Ondas Cerebrales Delta          21       359003     False   \n",
       "113970                       De Conexion          21        96302     False   \n",
       "\n",
       "            danceability  energy  key  loudness  mode  speechiness  \\\n",
       "Unnamed: 0                                                           \n",
       "113983            0.3630  0.4620    7    -8.232     1       0.0284   \n",
       "113980            0.5160  0.6340    7    -4.850     1       0.0339   \n",
       "113978            0.4050  0.2830    4    -9.471     1       0.0300   \n",
       "113977            0.0672  0.0903    9   -23.496     1       0.0401   \n",
       "113976            0.5220  0.6970    2    -7.210     1       0.0344   \n",
       "113974            0.6180  0.4190    6    -6.156     1       0.0279   \n",
       "113973            0.3190  0.5770    4    -7.679     1       0.0330   \n",
       "113972            0.1700  0.0520    2   -28.693     1       0.0374   \n",
       "113971            0.3120  0.0330    9   -25.894     1       0.0307   \n",
       "113970            0.1210  0.2420    8   -17.980     1       0.0375   \n",
       "\n",
       "            acousticness  instrumentalness  liveness  valence    tempo  \\\n",
       "Unnamed: 0                                                               \n",
       "113983          0.008870          0.000009    0.7060   0.0687   80.003   \n",
       "113980          0.030000          0.000002    0.0813   0.0921   76.994   \n",
       "113978          0.894000          0.806000    0.1190   0.0813   99.947   \n",
       "113977          0.970000          0.977000    0.0930   0.0361   76.042   \n",
       "113976          0.055700          0.000000    0.1340   0.2880   75.972   \n",
       "113974          0.309000          0.000000    0.1070   0.3730  131.973   \n",
       "113973          0.049900          0.000000    0.7290   0.1890   97.678   \n",
       "113972          0.875000          0.904000    0.1290   0.0475  114.573   \n",
       "113971          0.853000          0.851000    0.1140   0.0639   79.655   \n",
       "113970          0.000878          0.813000    0.1200   0.0362   85.784   \n",
       "\n",
       "            time_signature     track_genre  \n",
       "Unnamed: 0                                  \n",
       "113983                   4  música mundial  \n",
       "113980                   4  música mundial  \n",
       "113978                   4  música mundial  \n",
       "113977                   4  música mundial  \n",
       "113976                   4  música mundial  \n",
       "113974                   4  música mundial  \n",
       "113973                   4  música mundial  \n",
       "113972                   4  música mundial  \n",
       "113971                   4  música mundial  \n",
       "113970                   4  música mundial  "
      ]
     },
     "execution_count": 36,
     "metadata": {},
     "output_type": "execute_result"
    }
   ],
   "source": [
    "data = pd.read_csv('data/data_traduct.csv', index_col=0)\n",
    "data.head(5)\n",
    "data.sort_values('mode', ascending=False).head(10)"
   ]
  },
  {
   "cell_type": "markdown",
   "metadata": {},
   "source": []
  },
  {
   "cell_type": "markdown",
   "metadata": {},
   "source": [
    "# 1.0 Data exploration"
   ]
  },
  {
   "cell_type": "markdown",
   "metadata": {},
   "source": [
    "### Descrição das Colunas\n",
    "\n",
    "- **track_id**: O ID do Spotify para a faixa\n",
    "- **artists**: Os nomes dos artistas que interpretaram a faixa. Se houver mais de um artista, eles são separados por ponto e vírgula (;)\n",
    "- **album_name**: O nome do álbum no qual a faixa aparece\n",
    "- **track_name**: Nome da faixa\n",
    "- **popularity**: A popularidade de uma faixa é um valor entre 0 e 100, sendo 100 a mais popular. A popularidade é calculada por algoritmo e é baseada, em grande parte, no número total de execuções da faixa e quão recentes essas execuções são. Em termos gerais, faixas que estão sendo muito tocadas agora terão maior popularidade do que faixas tocadas muito no passado. Faixas duplicadas (por exemplo, a mesma faixa de um single e de um álbum) são avaliadas separadamente. A popularidade do artista e do álbum é derivada matematicamente da popularidade das faixas.\n",
    "- **duration_ms**: A duração da faixa em milissegundos\n",
    "- **explicit**: Se a faixa contém ou não letras explícitas (true = sim, tem; false = não tem OU desconhecido)\n",
    "- **danceability**: Danceability descreve o quão adequada uma faixa é para dançar, com base em uma combinação de elementos musicais, incluindo o tempo, a estabilidade do ritmo, a força do beat e a regularidade geral. Um valor de 0,0 é menos dançável e 1,0 é mais dançável\n",
    "- **energy**: Energy é uma medida de 0,0 a 1,0 e representa uma medida perceptual de intensidade e atividade. Normalmente, faixas energéticas são rápidas, altas e barulhentas. Por exemplo, o death metal tem alta energia, enquanto uma preleção de Bach tem baixa energia\n",
    "- **key**: A tonalidade em que a faixa está. Números inteiros mapeiam para tons usando a notação padrão de Pitch Class. Ex: 0 = C, 1 = C♯/D♭, 2 = D, e assim por diante. Se nenhuma tonalidade for detectada, o valor será -1\n",
    "- **loudness**: O volume geral da faixa em decibéis (dB)\n",
    "- **mode**: O modo indica a modalidade (maior ou menor) de uma faixa, o tipo de escala de onde o conteúdo melódico foi derivado. Maior é representado por 1 e menor por 0\n",
    "- **speechiness**: Speechiness detecta a presença de palavras faladas em uma faixa. Quanto mais exclusivamente falada for a gravação (por exemplo, talk show, audiolivro, poesia), mais próximo de 1,0 será o valor do atributo. Valores acima de 0,66 descrevem faixas que provavelmente são feitas inteiramente de palavras faladas. Valores entre 0,33 e 0,66 descrevem faixas que podem conter tanto música quanto fala, seja em seções ou camadas, incluindo casos como música rap. Valores abaixo de 0,33 provavelmente representam música e outras faixas não relacionadas à fala\n",
    "- **acousticness**: Uma medida de confiança de 0,0 a 1,0 de se a faixa é acústica. 1,0 representa alta confiança de que a faixa é acústica\n",
    "- **instrumentalness**: Prediz se uma faixa não contém vocais. Sons como \"ooh\" e \"aah\" são tratados como instrumentais nesse contexto. Faixas de rap ou de palavra falada são claramente \"vocais\". Quanto mais próximo de 1,0 for o valor de instrumentalness, maior a probabilidade de que a faixa não contenha conteúdo vocal\n",
    "- **liveness**: Detecta a presença de uma audiência na gravação. Valores mais altos de liveness indicam maior probabilidade de que a faixa tenha sido gravada ao vivo. Um valor acima de 0,8 oferece uma forte probabilidade de que a faixa seja ao vivo\n",
    "- **valence**: Uma medida de 0,0 a 1,0 que descreve a positividade musical transmitida por uma faixa. Faixas com alta valência soam mais positivas (por exemplo, felizes, alegres, eufóricas), enquanto faixas com baixa valência soam mais negativas (por exemplo, tristes, deprimidas, zangadas)\n",
    "- **tempo**: O tempo estimado geral de uma faixa em batidas por minuto (BPM). Em terminologia musical, o tempo é a velocidade ou o ritmo de uma peça dada e deriva diretamente da duração média das batidas\n",
    "- **time_signature**: Uma assinatura de tempo estimada. A assinatura de tempo (métrica) é uma convenção de notação para especificar quantas batidas existem em cada compasso (ou medida). A assinatura de tempo varia de 3 a 7, indicando assinaturas de tempo de 3/4 a 7/4\n",
    "- **track_genre**: O gênero ao qual a faixa pertence\n"
   ]
  },
  {
   "cell_type": "markdown",
   "metadata": {},
   "source": [
    "Danceability\n",
    "Energy\n",
    "loudness \n",
    "mode \n",
    "valence\n",
    "tempo \n",
    "acousticness\n",
    "instrumentalness / speechiness"
   ]
  },
  {
   "cell_type": "markdown",
   "metadata": {},
   "source": [
    "## 1.1 Estatísticas"
   ]
  },
  {
   "cell_type": "code",
   "execution_count": 4,
   "metadata": {},
   "outputs": [
    {
     "name": "stdout",
     "output_type": "stream",
     "text": [
      "<class 'pandas.core.frame.DataFrame'>\n",
      "Index: 114000 entries, 0 to 113999\n",
      "Data columns (total 20 columns):\n",
      " #   Column            Non-Null Count   Dtype  \n",
      "---  ------            --------------   -----  \n",
      " 0   track_id          114000 non-null  object \n",
      " 1   artists           113999 non-null  object \n",
      " 2   album_name        113999 non-null  object \n",
      " 3   track_name        113999 non-null  object \n",
      " 4   popularity        114000 non-null  int64  \n",
      " 5   duration_ms       114000 non-null  int64  \n",
      " 6   explicit          114000 non-null  bool   \n",
      " 7   danceability      114000 non-null  float64\n",
      " 8   energy            114000 non-null  float64\n",
      " 9   key               114000 non-null  int64  \n",
      " 10  loudness          114000 non-null  float64\n",
      " 11  mode              114000 non-null  int64  \n",
      " 12  speechiness       114000 non-null  float64\n",
      " 13  acousticness      114000 non-null  float64\n",
      " 14  instrumentalness  114000 non-null  float64\n",
      " 15  liveness          114000 non-null  float64\n",
      " 16  valence           114000 non-null  float64\n",
      " 17  tempo             114000 non-null  float64\n",
      " 18  time_signature    114000 non-null  int64  \n",
      " 19  track_genre       114000 non-null  object \n",
      "dtypes: bool(1), float64(9), int64(5), object(5)\n",
      "memory usage: 17.5+ MB\n"
     ]
    }
   ],
   "source": [
    "data.info()"
   ]
  },
  {
   "cell_type": "code",
   "execution_count": 5,
   "metadata": {},
   "outputs": [
    {
     "name": "stdout",
     "output_type": "stream",
     "text": [
      "Número de linhas e colunas: (114000, 20)\n"
     ]
    }
   ],
   "source": [
    "print(\"Número de linhas e colunas:\", data.shape)"
   ]
  },
  {
   "cell_type": "code",
   "execution_count": 6,
   "metadata": {},
   "outputs": [
    {
     "data": {
      "text/html": [
       "<div>\n",
       "<style scoped>\n",
       "    .dataframe tbody tr th:only-of-type {\n",
       "        vertical-align: middle;\n",
       "    }\n",
       "\n",
       "    .dataframe tbody tr th {\n",
       "        vertical-align: top;\n",
       "    }\n",
       "\n",
       "    .dataframe thead th {\n",
       "        text-align: right;\n",
       "    }\n",
       "</style>\n",
       "<table border=\"1\" class=\"dataframe\">\n",
       "  <thead>\n",
       "    <tr style=\"text-align: right;\">\n",
       "      <th></th>\n",
       "      <th>popularity</th>\n",
       "      <th>duration_ms</th>\n",
       "      <th>danceability</th>\n",
       "      <th>energy</th>\n",
       "      <th>key</th>\n",
       "      <th>loudness</th>\n",
       "      <th>mode</th>\n",
       "      <th>speechiness</th>\n",
       "      <th>acousticness</th>\n",
       "      <th>instrumentalness</th>\n",
       "      <th>liveness</th>\n",
       "      <th>valence</th>\n",
       "      <th>tempo</th>\n",
       "      <th>time_signature</th>\n",
       "    </tr>\n",
       "  </thead>\n",
       "  <tbody>\n",
       "    <tr>\n",
       "      <th>count</th>\n",
       "      <td>114000.000000</td>\n",
       "      <td>1.140000e+05</td>\n",
       "      <td>114000.000000</td>\n",
       "      <td>114000.000000</td>\n",
       "      <td>114000.000000</td>\n",
       "      <td>114000.000000</td>\n",
       "      <td>114000.000000</td>\n",
       "      <td>114000.000000</td>\n",
       "      <td>114000.000000</td>\n",
       "      <td>114000.000000</td>\n",
       "      <td>114000.000000</td>\n",
       "      <td>114000.000000</td>\n",
       "      <td>114000.000000</td>\n",
       "      <td>114000.000000</td>\n",
       "    </tr>\n",
       "    <tr>\n",
       "      <th>mean</th>\n",
       "      <td>33.238535</td>\n",
       "      <td>2.280292e+05</td>\n",
       "      <td>0.566800</td>\n",
       "      <td>0.641383</td>\n",
       "      <td>5.309140</td>\n",
       "      <td>-8.258960</td>\n",
       "      <td>0.637553</td>\n",
       "      <td>0.084652</td>\n",
       "      <td>0.314910</td>\n",
       "      <td>0.156050</td>\n",
       "      <td>0.213553</td>\n",
       "      <td>0.474068</td>\n",
       "      <td>122.147837</td>\n",
       "      <td>3.904035</td>\n",
       "    </tr>\n",
       "    <tr>\n",
       "      <th>std</th>\n",
       "      <td>22.305078</td>\n",
       "      <td>1.072977e+05</td>\n",
       "      <td>0.173542</td>\n",
       "      <td>0.251529</td>\n",
       "      <td>3.559987</td>\n",
       "      <td>5.029337</td>\n",
       "      <td>0.480709</td>\n",
       "      <td>0.105732</td>\n",
       "      <td>0.332523</td>\n",
       "      <td>0.309555</td>\n",
       "      <td>0.190378</td>\n",
       "      <td>0.259261</td>\n",
       "      <td>29.978197</td>\n",
       "      <td>0.432621</td>\n",
       "    </tr>\n",
       "    <tr>\n",
       "      <th>min</th>\n",
       "      <td>0.000000</td>\n",
       "      <td>0.000000e+00</td>\n",
       "      <td>0.000000</td>\n",
       "      <td>0.000000</td>\n",
       "      <td>0.000000</td>\n",
       "      <td>-49.531000</td>\n",
       "      <td>0.000000</td>\n",
       "      <td>0.000000</td>\n",
       "      <td>0.000000</td>\n",
       "      <td>0.000000</td>\n",
       "      <td>0.000000</td>\n",
       "      <td>0.000000</td>\n",
       "      <td>0.000000</td>\n",
       "      <td>0.000000</td>\n",
       "    </tr>\n",
       "    <tr>\n",
       "      <th>25%</th>\n",
       "      <td>17.000000</td>\n",
       "      <td>1.740660e+05</td>\n",
       "      <td>0.456000</td>\n",
       "      <td>0.472000</td>\n",
       "      <td>2.000000</td>\n",
       "      <td>-10.013000</td>\n",
       "      <td>0.000000</td>\n",
       "      <td>0.035900</td>\n",
       "      <td>0.016900</td>\n",
       "      <td>0.000000</td>\n",
       "      <td>0.098000</td>\n",
       "      <td>0.260000</td>\n",
       "      <td>99.218750</td>\n",
       "      <td>4.000000</td>\n",
       "    </tr>\n",
       "    <tr>\n",
       "      <th>50%</th>\n",
       "      <td>35.000000</td>\n",
       "      <td>2.129060e+05</td>\n",
       "      <td>0.580000</td>\n",
       "      <td>0.685000</td>\n",
       "      <td>5.000000</td>\n",
       "      <td>-7.004000</td>\n",
       "      <td>1.000000</td>\n",
       "      <td>0.048900</td>\n",
       "      <td>0.169000</td>\n",
       "      <td>0.000042</td>\n",
       "      <td>0.132000</td>\n",
       "      <td>0.464000</td>\n",
       "      <td>122.017000</td>\n",
       "      <td>4.000000</td>\n",
       "    </tr>\n",
       "    <tr>\n",
       "      <th>75%</th>\n",
       "      <td>50.000000</td>\n",
       "      <td>2.615060e+05</td>\n",
       "      <td>0.695000</td>\n",
       "      <td>0.854000</td>\n",
       "      <td>8.000000</td>\n",
       "      <td>-5.003000</td>\n",
       "      <td>1.000000</td>\n",
       "      <td>0.084500</td>\n",
       "      <td>0.598000</td>\n",
       "      <td>0.049000</td>\n",
       "      <td>0.273000</td>\n",
       "      <td>0.683000</td>\n",
       "      <td>140.071000</td>\n",
       "      <td>4.000000</td>\n",
       "    </tr>\n",
       "    <tr>\n",
       "      <th>max</th>\n",
       "      <td>100.000000</td>\n",
       "      <td>5.237295e+06</td>\n",
       "      <td>0.985000</td>\n",
       "      <td>1.000000</td>\n",
       "      <td>11.000000</td>\n",
       "      <td>4.532000</td>\n",
       "      <td>1.000000</td>\n",
       "      <td>0.965000</td>\n",
       "      <td>0.996000</td>\n",
       "      <td>1.000000</td>\n",
       "      <td>1.000000</td>\n",
       "      <td>0.995000</td>\n",
       "      <td>243.372000</td>\n",
       "      <td>5.000000</td>\n",
       "    </tr>\n",
       "  </tbody>\n",
       "</table>\n",
       "</div>"
      ],
      "text/plain": [
       "          popularity   duration_ms   danceability         energy  \\\n",
       "count  114000.000000  1.140000e+05  114000.000000  114000.000000   \n",
       "mean       33.238535  2.280292e+05       0.566800       0.641383   \n",
       "std        22.305078  1.072977e+05       0.173542       0.251529   \n",
       "min         0.000000  0.000000e+00       0.000000       0.000000   \n",
       "25%        17.000000  1.740660e+05       0.456000       0.472000   \n",
       "50%        35.000000  2.129060e+05       0.580000       0.685000   \n",
       "75%        50.000000  2.615060e+05       0.695000       0.854000   \n",
       "max       100.000000  5.237295e+06       0.985000       1.000000   \n",
       "\n",
       "                 key       loudness           mode    speechiness  \\\n",
       "count  114000.000000  114000.000000  114000.000000  114000.000000   \n",
       "mean        5.309140      -8.258960       0.637553       0.084652   \n",
       "std         3.559987       5.029337       0.480709       0.105732   \n",
       "min         0.000000     -49.531000       0.000000       0.000000   \n",
       "25%         2.000000     -10.013000       0.000000       0.035900   \n",
       "50%         5.000000      -7.004000       1.000000       0.048900   \n",
       "75%         8.000000      -5.003000       1.000000       0.084500   \n",
       "max        11.000000       4.532000       1.000000       0.965000   \n",
       "\n",
       "        acousticness  instrumentalness       liveness        valence  \\\n",
       "count  114000.000000     114000.000000  114000.000000  114000.000000   \n",
       "mean        0.314910          0.156050       0.213553       0.474068   \n",
       "std         0.332523          0.309555       0.190378       0.259261   \n",
       "min         0.000000          0.000000       0.000000       0.000000   \n",
       "25%         0.016900          0.000000       0.098000       0.260000   \n",
       "50%         0.169000          0.000042       0.132000       0.464000   \n",
       "75%         0.598000          0.049000       0.273000       0.683000   \n",
       "max         0.996000          1.000000       1.000000       0.995000   \n",
       "\n",
       "               tempo  time_signature  \n",
       "count  114000.000000   114000.000000  \n",
       "mean      122.147837        3.904035  \n",
       "std        29.978197        0.432621  \n",
       "min         0.000000        0.000000  \n",
       "25%        99.218750        4.000000  \n",
       "50%       122.017000        4.000000  \n",
       "75%       140.071000        4.000000  \n",
       "max       243.372000        5.000000  "
      ]
     },
     "execution_count": 6,
     "metadata": {},
     "output_type": "execute_result"
    }
   ],
   "source": [
    "data.describe()"
   ]
  },
  {
   "cell_type": "code",
   "execution_count": 4,
   "metadata": {},
   "outputs": [
    {
     "data": {
      "text/plain": [
       "array([ 1,  0,  2,  6, 11,  8,  4,  7,  3, 10,  5,  9])"
      ]
     },
     "execution_count": 4,
     "metadata": {},
     "output_type": "execute_result"
    }
   ],
   "source": [
    "data['key'].unique()"
   ]
  },
  {
   "cell_type": "code",
   "execution_count": 30,
   "metadata": {},
   "outputs": [
    {
     "data": {
      "text/plain": [
       "array(['acústico', 'afrobeat', 'rock alternativo', 'alternativo',\n",
       "       'ambiente', 'anime', 'black metal', 'bluegrass', 'blues',\n",
       "       'brasileiro', 'breakbeat', 'britânico', 'cantopop',\n",
       "       'house de Chicago', 'infantil', 'calmo', 'clássico', 'clube',\n",
       "       'comédia', 'country', 'dança', 'dancehall', 'death metal',\n",
       "       'deep house', 'techno de Detroit', 'disco', 'Disney',\n",
       "       'drum and bass', 'dub', 'dubstep', 'EDM', 'eletro', 'eletrônico',\n",
       "       'emo', 'folk', 'forró', 'francês', 'funk', 'garage', 'alemão',\n",
       "       'gospel', 'gótico', 'grindcore', 'groove', 'grunge', 'guitarra',\n",
       "       'feliz', 'hard rock', 'hardcore', 'hardstyle', 'heavy metal',\n",
       "       'hip-hop', 'honky-tonk', 'house', 'IDM', 'indiano', 'indie pop',\n",
       "       'indie', 'industrial', 'iraniano', 'J-dance', 'J-idol', 'J-pop',\n",
       "       'J-rock', 'jazz', 'K-pop', 'latino', 'malaio', 'mandopop', 'metal',\n",
       "       'metalcore', 'minimal techno', 'MPB', 'nova era', 'ópera',\n",
       "       'pagode', 'festa', 'piano', 'pop de filmes', 'pop', 'power pop',\n",
       "       'house progressivo', 'rock psicodélico', 'punk rock', 'punk',\n",
       "       'R&B', 'reggae', 'reggaeton', 'rock and roll', 'rock',\n",
       "       'rockabilly', 'romântico', 'triste', 'salsa', 'samba', 'sertanejo',\n",
       "       'músicas de show', 'cantor-compositor', 'ska', 'sono',\n",
       "       'compositor', 'soul', 'espanhol', 'estudo', 'sueco', 'synth pop',\n",
       "       'tango', 'techno', 'trance', 'trip hop', 'turco', 'música mundial'],\n",
       "      dtype=object)"
      ]
     },
     "execution_count": 30,
     "metadata": {},
     "output_type": "execute_result"
    }
   ],
   "source": [
    "data['track_genre'].unique()"
   ]
  },
  {
   "cell_type": "markdown",
   "metadata": {},
   "source": [
    "## 1.2 Removendo Duplicatas"
   ]
  },
  {
   "cell_type": "code",
   "execution_count": 8,
   "metadata": {},
   "outputs": [
    {
     "name": "stdout",
     "output_type": "stream",
     "text": [
      "Número de linhas antes de remover duplicatas: 114000\n",
      "Número de linhas após remover duplicatas: 81344\n"
     ]
    }
   ],
   "source": [
    "df1 = data.drop_duplicates(subset=['artists', 'track_name'], keep='first')\n",
    "print(\"Número de linhas antes de remover duplicatas:\", len(data))\n",
    "print(\"Número de linhas após remover duplicatas:\", len(df1))"
   ]
  },
  {
   "cell_type": "markdown",
   "metadata": {},
   "source": [
    "# 2.0 Preprocessing"
   ]
  },
  {
   "cell_type": "code",
   "execution_count": 9,
   "metadata": {},
   "outputs": [
    {
     "data": {
      "text/html": [
       "<div>\n",
       "<style scoped>\n",
       "    .dataframe tbody tr th:only-of-type {\n",
       "        vertical-align: middle;\n",
       "    }\n",
       "\n",
       "    .dataframe tbody tr th {\n",
       "        vertical-align: top;\n",
       "    }\n",
       "\n",
       "    .dataframe thead th {\n",
       "        text-align: right;\n",
       "    }\n",
       "</style>\n",
       "<table border=\"1\" class=\"dataframe\">\n",
       "  <thead>\n",
       "    <tr style=\"text-align: right;\">\n",
       "      <th></th>\n",
       "      <th>track_id</th>\n",
       "      <th>artists</th>\n",
       "      <th>album_name</th>\n",
       "      <th>track_name</th>\n",
       "      <th>popularity</th>\n",
       "      <th>duration_ms</th>\n",
       "      <th>explicit</th>\n",
       "      <th>danceability</th>\n",
       "      <th>energy</th>\n",
       "      <th>key</th>\n",
       "      <th>loudness</th>\n",
       "      <th>mode</th>\n",
       "      <th>speechiness</th>\n",
       "      <th>acousticness</th>\n",
       "      <th>instrumentalness</th>\n",
       "      <th>liveness</th>\n",
       "      <th>valence</th>\n",
       "      <th>tempo</th>\n",
       "      <th>time_signature</th>\n",
       "      <th>track_genre</th>\n",
       "    </tr>\n",
       "  </thead>\n",
       "  <tbody>\n",
       "    <tr>\n",
       "      <th>0</th>\n",
       "      <td>5SuOikwiRyPMVoIQDJUgSV</td>\n",
       "      <td>Gen Hoshino</td>\n",
       "      <td>Comedy</td>\n",
       "      <td>Comedy</td>\n",
       "      <td>73</td>\n",
       "      <td>230666</td>\n",
       "      <td>False</td>\n",
       "      <td>0.676</td>\n",
       "      <td>0.461</td>\n",
       "      <td>1</td>\n",
       "      <td>-6.746</td>\n",
       "      <td>0</td>\n",
       "      <td>0.1430</td>\n",
       "      <td>0.0322</td>\n",
       "      <td>0.000001</td>\n",
       "      <td>0.358</td>\n",
       "      <td>0.715</td>\n",
       "      <td>87.917</td>\n",
       "      <td>4</td>\n",
       "      <td>acoustic</td>\n",
       "    </tr>\n",
       "    <tr>\n",
       "      <th>1</th>\n",
       "      <td>4qPNDBW1i3p13qLCt0Ki3A</td>\n",
       "      <td>Ben Woodward</td>\n",
       "      <td>Ghost (Acoustic)</td>\n",
       "      <td>Ghost - Acoustic</td>\n",
       "      <td>55</td>\n",
       "      <td>149610</td>\n",
       "      <td>False</td>\n",
       "      <td>0.420</td>\n",
       "      <td>0.166</td>\n",
       "      <td>1</td>\n",
       "      <td>-17.235</td>\n",
       "      <td>1</td>\n",
       "      <td>0.0763</td>\n",
       "      <td>0.9240</td>\n",
       "      <td>0.000006</td>\n",
       "      <td>0.101</td>\n",
       "      <td>0.267</td>\n",
       "      <td>77.489</td>\n",
       "      <td>4</td>\n",
       "      <td>acoustic</td>\n",
       "    </tr>\n",
       "  </tbody>\n",
       "</table>\n",
       "</div>"
      ],
      "text/plain": [
       "                 track_id       artists        album_name        track_name  \\\n",
       "0  5SuOikwiRyPMVoIQDJUgSV   Gen Hoshino            Comedy            Comedy   \n",
       "1  4qPNDBW1i3p13qLCt0Ki3A  Ben Woodward  Ghost (Acoustic)  Ghost - Acoustic   \n",
       "\n",
       "   popularity  duration_ms  explicit  danceability  energy  key  loudness  \\\n",
       "0          73       230666     False         0.676   0.461    1    -6.746   \n",
       "1          55       149610     False         0.420   0.166    1   -17.235   \n",
       "\n",
       "   mode  speechiness  acousticness  instrumentalness  liveness  valence  \\\n",
       "0     0       0.1430        0.0322          0.000001     0.358    0.715   \n",
       "1     1       0.0763        0.9240          0.000006     0.101    0.267   \n",
       "\n",
       "    tempo  time_signature track_genre  \n",
       "0  87.917               4    acoustic  \n",
       "1  77.489               4    acoustic  "
      ]
     },
     "execution_count": 9,
     "metadata": {},
     "output_type": "execute_result"
    }
   ],
   "source": [
    "df2 = df1.copy()\n",
    "df2.head(2)"
   ]
  },
  {
   "cell_type": "code",
   "execution_count": 10,
   "metadata": {},
   "outputs": [
    {
     "name": "stdout",
     "output_type": "stream",
     "text": [
      "Atributos disponíveis: ['artists', 'track_name', 'danceability', 'energy', 'valence', 'acousticness', 'instrumentalness', 'liveness', 'loudness', 'speechiness']\n"
     ]
    }
   ],
   "source": [
    "\n",
    "# Selecionar atributos de áudio\n",
    "features = ['artists','track_name','danceability', 'energy', 'valence', 'acousticness', \n",
    "            'instrumentalness', 'liveness', 'loudness', 'speechiness']\n",
    "\n",
    "available_features = [f for f in features if f in data.columns]\n",
    "print(\"Atributos disponíveis:\", available_features)\n",
    "\n",
    "# Preparar os dados\n",
    "data_features = df2[available_features]\n",
    "scaler = StandardScaler()\n"
   ]
  },
  {
   "cell_type": "markdown",
   "metadata": {},
   "source": [
    "# 3.0 Modelagem"
   ]
  },
  {
   "cell_type": "code",
   "execution_count": 11,
   "metadata": {},
   "outputs": [],
   "source": [
    "df3 = data_features.copy()"
   ]
  },
  {
   "cell_type": "markdown",
   "metadata": {},
   "source": [
    "## 3.1  Train Test Split"
   ]
  },
  {
   "cell_type": "code",
   "execution_count": 12,
   "metadata": {},
   "outputs": [],
   "source": [
    "# # Dividir em treino e teste\n",
    "# train_data, test_data = train_test_split(df3, test_size=0.2, random_state=42)\n",
    "# train_scaled = scaler.fit_transform(train_data[available_features].drop(columns=['artists', 'track_name']))\n",
    "# test_scaled = scaler.transform(test_data[available_features].drop(columns=['artists', 'track_name']))\n",
    "\n",
    "# print(\"Shape do conjunto de treino:\", train_scaled.shape)  \n",
    "# print(\"Shape do conjunto de teste:\", test_scaled.shape)  "
   ]
  },
  {
   "cell_type": "code",
   "execution_count": 24,
   "metadata": {},
   "outputs": [
    {
     "name": "stdout",
     "output_type": "stream",
     "text": [
      "Modelo KNN treinado no conjunto de treino!\n"
     ]
    }
   ],
   "source": [
    "# Configurar o modelo KNN\n",
    "knn = NearestNeighbors(n_neighbors=6, metric='euclidean')  # k=6 para pegar 5 vizinhos + o centroide\n",
    "knn.fit(df3.drop(columns=['artists', 'track_name']))\n",
    "print(\"Modelo KNN treinado no conjunto de treino!\")"
   ]
  },
  {
   "cell_type": "code",
   "execution_count": 19,
   "metadata": {},
   "outputs": [
    {
     "name": "stdout",
     "output_type": "stream",
     "text": [
      "\n",
      "Recomendações para a música: Comedy  -  Gen Hoshino \n",
      "\n"
     ]
    },
    {
     "data": {
      "text/html": [
       "<div>\n",
       "<style scoped>\n",
       "    .dataframe tbody tr th:only-of-type {\n",
       "        vertical-align: middle;\n",
       "    }\n",
       "\n",
       "    .dataframe tbody tr th {\n",
       "        vertical-align: top;\n",
       "    }\n",
       "\n",
       "    .dataframe thead th {\n",
       "        text-align: right;\n",
       "    }\n",
       "</style>\n",
       "<table border=\"1\" class=\"dataframe\">\n",
       "  <thead>\n",
       "    <tr style=\"text-align: right;\">\n",
       "      <th></th>\n",
       "      <th>track_name</th>\n",
       "      <th>artists</th>\n",
       "    </tr>\n",
       "  </thead>\n",
       "  <tbody>\n",
       "    <tr>\n",
       "      <th>0</th>\n",
       "      <td>Comedy</td>\n",
       "      <td>Gen Hoshino</td>\n",
       "    </tr>\n",
       "    <tr>\n",
       "      <th>32700</th>\n",
       "      <td>ili</td>\n",
       "      <td>TroyBoi</td>\n",
       "    </tr>\n",
       "    <tr>\n",
       "      <th>111986</th>\n",
       "      <td>Anything U Want (feat. QBall &amp; Curt Cazal)</td>\n",
       "      <td>Rae &amp; Christian;Q*Ball;Curt Cazal</td>\n",
       "    </tr>\n",
       "    <tr>\n",
       "      <th>62314</th>\n",
       "      <td>好きだから。</td>\n",
       "      <td>『ユイカ』;れん</td>\n",
       "    </tr>\n",
       "    <tr>\n",
       "      <th>60723</th>\n",
       "      <td>空ノムコウ</td>\n",
       "      <td>Maharajan</td>\n",
       "    </tr>\n",
       "  </tbody>\n",
       "</table>\n",
       "</div>"
      ],
      "text/plain": [
       "                                        track_name  \\\n",
       "0                                           Comedy   \n",
       "32700                                          ili   \n",
       "111986  Anything U Want (feat. QBall & Curt Cazal)   \n",
       "62314                                       好きだから。   \n",
       "60723                                        空ノムコウ   \n",
       "\n",
       "                                  artists  \n",
       "0                             Gen Hoshino  \n",
       "32700                             TroyBoi  \n",
       "111986  Rae & Christian;Q*Ball;Curt Cazal  \n",
       "62314                            『ユイカ』;れん  \n",
       "60723                           Maharajan  "
      ]
     },
     "execution_count": 19,
     "metadata": {},
     "output_type": "execute_result"
    }
   ],
   "source": [
    "def recomendar_musicas_knn_unica(user_musica_name, data, knn_model,top_n=5):\n",
    "    # Encontrar a linha correspondente ao user_musica_name\n",
    "    idx = data.index[data['track_name'] == user_musica_name].tolist()[0]\n",
    "    track_features = data.loc[idx, :].values.reshape(1, -1)[:, 2:]\n",
    "    track_features = pd.DataFrame(track_features, columns=data.columns[2:])\n",
    "\n",
    "    # Encontrar os vizinhos mais próximos\n",
    "    distances, indices = knn_model.kneighbors(track_features)\n",
    "    top_indices = indices[0][:top_n]  # Pegamos os top_n diretamente\n",
    "    return data.iloc[top_indices]\n",
    "\n",
    "n=0\n",
    "\n",
    "# Testar com uma música específica\n",
    "user_musica_name = df3['track_name'].iloc[n]  \n",
    "print(\"\\nRecomendações para a música:\", user_musica_name,' - ', df3['artists'].iloc[n] ,'\\n')\n",
    "\n",
    "recomendacoes = recomendar_musicas_knn_unica(user_musica_name,df3, knn)\n",
    "recomendacoes[['track_name', 'artists']]"
   ]
  },
  {
   "cell_type": "code",
   "execution_count": 20,
   "metadata": {},
   "outputs": [
    {
     "data": {
      "text/html": [
       "<div>\n",
       "<style scoped>\n",
       "    .dataframe tbody tr th:only-of-type {\n",
       "        vertical-align: middle;\n",
       "    }\n",
       "\n",
       "    .dataframe tbody tr th {\n",
       "        vertical-align: top;\n",
       "    }\n",
       "\n",
       "    .dataframe thead th {\n",
       "        text-align: right;\n",
       "    }\n",
       "</style>\n",
       "<table border=\"1\" class=\"dataframe\">\n",
       "  <thead>\n",
       "    <tr style=\"text-align: right;\">\n",
       "      <th></th>\n",
       "      <th>artists</th>\n",
       "      <th>track_name</th>\n",
       "      <th>danceability</th>\n",
       "      <th>energy</th>\n",
       "      <th>valence</th>\n",
       "      <th>acousticness</th>\n",
       "      <th>instrumentalness</th>\n",
       "      <th>liveness</th>\n",
       "      <th>loudness</th>\n",
       "      <th>speechiness</th>\n",
       "    </tr>\n",
       "  </thead>\n",
       "  <tbody>\n",
       "    <tr>\n",
       "      <th>0</th>\n",
       "      <td>Gen Hoshino</td>\n",
       "      <td>Comedy</td>\n",
       "      <td>0.676</td>\n",
       "      <td>0.461</td>\n",
       "      <td>0.715</td>\n",
       "      <td>0.0322</td>\n",
       "      <td>0.000001</td>\n",
       "      <td>0.358</td>\n",
       "      <td>-6.746</td>\n",
       "      <td>0.1430</td>\n",
       "    </tr>\n",
       "    <tr>\n",
       "      <th>32700</th>\n",
       "      <td>TroyBoi</td>\n",
       "      <td>ili</td>\n",
       "      <td>0.634</td>\n",
       "      <td>0.588</td>\n",
       "      <td>0.770</td>\n",
       "      <td>0.0575</td>\n",
       "      <td>0.002310</td>\n",
       "      <td>0.441</td>\n",
       "      <td>-6.753</td>\n",
       "      <td>0.1060</td>\n",
       "    </tr>\n",
       "    <tr>\n",
       "      <th>111986</th>\n",
       "      <td>Rae &amp; Christian;Q*Ball;Curt Cazal</td>\n",
       "      <td>Anything U Want (feat. QBall &amp; Curt Cazal)</td>\n",
       "      <td>0.753</td>\n",
       "      <td>0.562</td>\n",
       "      <td>0.600</td>\n",
       "      <td>0.0270</td>\n",
       "      <td>0.024500</td>\n",
       "      <td>0.274</td>\n",
       "      <td>-6.797</td>\n",
       "      <td>0.1760</td>\n",
       "    </tr>\n",
       "    <tr>\n",
       "      <th>62314</th>\n",
       "      <td>『ユイカ』;れん</td>\n",
       "      <td>好きだから。</td>\n",
       "      <td>0.603</td>\n",
       "      <td>0.481</td>\n",
       "      <td>0.698</td>\n",
       "      <td>0.1730</td>\n",
       "      <td>0.000000</td>\n",
       "      <td>0.329</td>\n",
       "      <td>-6.689</td>\n",
       "      <td>0.0345</td>\n",
       "    </tr>\n",
       "    <tr>\n",
       "      <th>60723</th>\n",
       "      <td>Maharajan</td>\n",
       "      <td>空ノムコウ</td>\n",
       "      <td>0.597</td>\n",
       "      <td>0.599</td>\n",
       "      <td>0.657</td>\n",
       "      <td>0.0133</td>\n",
       "      <td>0.000009</td>\n",
       "      <td>0.278</td>\n",
       "      <td>-6.729</td>\n",
       "      <td>0.0442</td>\n",
       "    </tr>\n",
       "  </tbody>\n",
       "</table>\n",
       "</div>"
      ],
      "text/plain": [
       "                                  artists  \\\n",
       "0                             Gen Hoshino   \n",
       "32700                             TroyBoi   \n",
       "111986  Rae & Christian;Q*Ball;Curt Cazal   \n",
       "62314                            『ユイカ』;れん   \n",
       "60723                           Maharajan   \n",
       "\n",
       "                                        track_name  danceability  energy  \\\n",
       "0                                           Comedy         0.676   0.461   \n",
       "32700                                          ili         0.634   0.588   \n",
       "111986  Anything U Want (feat. QBall & Curt Cazal)         0.753   0.562   \n",
       "62314                                       好きだから。         0.603   0.481   \n",
       "60723                                        空ノムコウ         0.597   0.599   \n",
       "\n",
       "        valence  acousticness  instrumentalness  liveness  loudness  \\\n",
       "0         0.715        0.0322          0.000001     0.358    -6.746   \n",
       "32700     0.770        0.0575          0.002310     0.441    -6.753   \n",
       "111986    0.600        0.0270          0.024500     0.274    -6.797   \n",
       "62314     0.698        0.1730          0.000000     0.329    -6.689   \n",
       "60723     0.657        0.0133          0.000009     0.278    -6.729   \n",
       "\n",
       "        speechiness  \n",
       "0            0.1430  \n",
       "32700        0.1060  \n",
       "111986       0.1760  \n",
       "62314        0.0345  \n",
       "60723        0.0442  "
      ]
     },
     "execution_count": 20,
     "metadata": {},
     "output_type": "execute_result"
    }
   ],
   "source": [
    "recomendacoes"
   ]
  },
  {
   "cell_type": "markdown",
   "metadata": {},
   "source": [
    "# Visualizando K-NN "
   ]
  },
  {
   "cell_type": "code",
   "execution_count": 21,
   "metadata": {},
   "outputs": [
    {
     "data": {
      "application/vnd.plotly.v1+json": {
       "config": {
        "plotlyServerURL": "https://plot.ly"
       },
       "data": [
        {
         "marker": {
          "color": "red",
          "size": 12
         },
         "mode": "markers",
         "name": "Musica do usuário",
         "type": "scatter",
         "x": [
          0.676
         ],
         "y": [
          0.461
         ]
        },
        {
         "marker": {
          "color": "blue",
          "size": 10
         },
         "mode": "markers",
         "name": "Recomendações",
         "type": "scatter",
         "x": {
          "bdata": "fT81XrpJ5D9/arx0kxjoP7Kd76fGS+M/tMh2vp8a4z8=",
          "dtype": "f8"
         },
         "y": {
          "bdata": "N4lBYOXQ4j+WQ4ts5/vhP2IQWDm0yN4/XrpJDAIr4z8=",
          "dtype": "f8"
         }
        },
        {
         "marker": {
          "color": "green",
          "size": 8
         },
         "mode": "markers",
         "name": "Pontos Aleatórios",
         "type": "scatter",
         "x": {
          "bdata": "XrpJDAIr6z/l0CLb+X7aP4cW2c73U+s/rkfhehSu3z9QjZduEoPgPw4tsp3vp+Y/YOXQItv55j9/arx0kxjgP/YoXI/C9eg/TmIQWDm06D/jpZvEILDmP2IQWDm0yN4/gZVDi2zn4z8CK4cW2c7fP9V46SYxCOw/LbKd76fG4z83iUFg5dDCP8l2vp8aL+k/PzVeukkM2j/ZzvdT46XbPw==",
          "dtype": "f8"
         },
         "y": {
          "bdata": "ObTIdr6f5j+cxCCwcmjBP/LSTWIQWOU/DAIrhxbZ6j9SuB6F61HgP2ZmZmZmZt4/9P3UeOkm7T+0yHa+nxrrPzEIrBxaZOs/CtejcD0K5z8zMzMzMzPvP0a28/3UeOE/JzEIrBxa5D83iUFg5dDqP/7UeOkmMdg/WmQ730+N6z9xPQrXo3C9P05iEFg5tOw/O99PjZdu7j/Jdr6fGi/tPw==",
          "dtype": "f8"
         }
        }
       ],
       "layout": {
        "showlegend": true,
        "template": {
         "data": {
          "bar": [
           {
            "error_x": {
             "color": "#2a3f5f"
            },
            "error_y": {
             "color": "#2a3f5f"
            },
            "marker": {
             "line": {
              "color": "#E5ECF6",
              "width": 0.5
             },
             "pattern": {
              "fillmode": "overlay",
              "size": 10,
              "solidity": 0.2
             }
            },
            "type": "bar"
           }
          ],
          "barpolar": [
           {
            "marker": {
             "line": {
              "color": "#E5ECF6",
              "width": 0.5
             },
             "pattern": {
              "fillmode": "overlay",
              "size": 10,
              "solidity": 0.2
             }
            },
            "type": "barpolar"
           }
          ],
          "carpet": [
           {
            "aaxis": {
             "endlinecolor": "#2a3f5f",
             "gridcolor": "white",
             "linecolor": "white",
             "minorgridcolor": "white",
             "startlinecolor": "#2a3f5f"
            },
            "baxis": {
             "endlinecolor": "#2a3f5f",
             "gridcolor": "white",
             "linecolor": "white",
             "minorgridcolor": "white",
             "startlinecolor": "#2a3f5f"
            },
            "type": "carpet"
           }
          ],
          "choropleth": [
           {
            "colorbar": {
             "outlinewidth": 0,
             "ticks": ""
            },
            "type": "choropleth"
           }
          ],
          "contour": [
           {
            "colorbar": {
             "outlinewidth": 0,
             "ticks": ""
            },
            "colorscale": [
             [
              0,
              "#0d0887"
             ],
             [
              0.1111111111111111,
              "#46039f"
             ],
             [
              0.2222222222222222,
              "#7201a8"
             ],
             [
              0.3333333333333333,
              "#9c179e"
             ],
             [
              0.4444444444444444,
              "#bd3786"
             ],
             [
              0.5555555555555556,
              "#d8576b"
             ],
             [
              0.6666666666666666,
              "#ed7953"
             ],
             [
              0.7777777777777778,
              "#fb9f3a"
             ],
             [
              0.8888888888888888,
              "#fdca26"
             ],
             [
              1,
              "#f0f921"
             ]
            ],
            "type": "contour"
           }
          ],
          "contourcarpet": [
           {
            "colorbar": {
             "outlinewidth": 0,
             "ticks": ""
            },
            "type": "contourcarpet"
           }
          ],
          "heatmap": [
           {
            "colorbar": {
             "outlinewidth": 0,
             "ticks": ""
            },
            "colorscale": [
             [
              0,
              "#0d0887"
             ],
             [
              0.1111111111111111,
              "#46039f"
             ],
             [
              0.2222222222222222,
              "#7201a8"
             ],
             [
              0.3333333333333333,
              "#9c179e"
             ],
             [
              0.4444444444444444,
              "#bd3786"
             ],
             [
              0.5555555555555556,
              "#d8576b"
             ],
             [
              0.6666666666666666,
              "#ed7953"
             ],
             [
              0.7777777777777778,
              "#fb9f3a"
             ],
             [
              0.8888888888888888,
              "#fdca26"
             ],
             [
              1,
              "#f0f921"
             ]
            ],
            "type": "heatmap"
           }
          ],
          "histogram": [
           {
            "marker": {
             "pattern": {
              "fillmode": "overlay",
              "size": 10,
              "solidity": 0.2
             }
            },
            "type": "histogram"
           }
          ],
          "histogram2d": [
           {
            "colorbar": {
             "outlinewidth": 0,
             "ticks": ""
            },
            "colorscale": [
             [
              0,
              "#0d0887"
             ],
             [
              0.1111111111111111,
              "#46039f"
             ],
             [
              0.2222222222222222,
              "#7201a8"
             ],
             [
              0.3333333333333333,
              "#9c179e"
             ],
             [
              0.4444444444444444,
              "#bd3786"
             ],
             [
              0.5555555555555556,
              "#d8576b"
             ],
             [
              0.6666666666666666,
              "#ed7953"
             ],
             [
              0.7777777777777778,
              "#fb9f3a"
             ],
             [
              0.8888888888888888,
              "#fdca26"
             ],
             [
              1,
              "#f0f921"
             ]
            ],
            "type": "histogram2d"
           }
          ],
          "histogram2dcontour": [
           {
            "colorbar": {
             "outlinewidth": 0,
             "ticks": ""
            },
            "colorscale": [
             [
              0,
              "#0d0887"
             ],
             [
              0.1111111111111111,
              "#46039f"
             ],
             [
              0.2222222222222222,
              "#7201a8"
             ],
             [
              0.3333333333333333,
              "#9c179e"
             ],
             [
              0.4444444444444444,
              "#bd3786"
             ],
             [
              0.5555555555555556,
              "#d8576b"
             ],
             [
              0.6666666666666666,
              "#ed7953"
             ],
             [
              0.7777777777777778,
              "#fb9f3a"
             ],
             [
              0.8888888888888888,
              "#fdca26"
             ],
             [
              1,
              "#f0f921"
             ]
            ],
            "type": "histogram2dcontour"
           }
          ],
          "mesh3d": [
           {
            "colorbar": {
             "outlinewidth": 0,
             "ticks": ""
            },
            "type": "mesh3d"
           }
          ],
          "parcoords": [
           {
            "line": {
             "colorbar": {
              "outlinewidth": 0,
              "ticks": ""
             }
            },
            "type": "parcoords"
           }
          ],
          "pie": [
           {
            "automargin": true,
            "type": "pie"
           }
          ],
          "scatter": [
           {
            "fillpattern": {
             "fillmode": "overlay",
             "size": 10,
             "solidity": 0.2
            },
            "type": "scatter"
           }
          ],
          "scatter3d": [
           {
            "line": {
             "colorbar": {
              "outlinewidth": 0,
              "ticks": ""
             }
            },
            "marker": {
             "colorbar": {
              "outlinewidth": 0,
              "ticks": ""
             }
            },
            "type": "scatter3d"
           }
          ],
          "scattercarpet": [
           {
            "marker": {
             "colorbar": {
              "outlinewidth": 0,
              "ticks": ""
             }
            },
            "type": "scattercarpet"
           }
          ],
          "scattergeo": [
           {
            "marker": {
             "colorbar": {
              "outlinewidth": 0,
              "ticks": ""
             }
            },
            "type": "scattergeo"
           }
          ],
          "scattergl": [
           {
            "marker": {
             "colorbar": {
              "outlinewidth": 0,
              "ticks": ""
             }
            },
            "type": "scattergl"
           }
          ],
          "scattermap": [
           {
            "marker": {
             "colorbar": {
              "outlinewidth": 0,
              "ticks": ""
             }
            },
            "type": "scattermap"
           }
          ],
          "scattermapbox": [
           {
            "marker": {
             "colorbar": {
              "outlinewidth": 0,
              "ticks": ""
             }
            },
            "type": "scattermapbox"
           }
          ],
          "scatterpolar": [
           {
            "marker": {
             "colorbar": {
              "outlinewidth": 0,
              "ticks": ""
             }
            },
            "type": "scatterpolar"
           }
          ],
          "scatterpolargl": [
           {
            "marker": {
             "colorbar": {
              "outlinewidth": 0,
              "ticks": ""
             }
            },
            "type": "scatterpolargl"
           }
          ],
          "scatterternary": [
           {
            "marker": {
             "colorbar": {
              "outlinewidth": 0,
              "ticks": ""
             }
            },
            "type": "scatterternary"
           }
          ],
          "surface": [
           {
            "colorbar": {
             "outlinewidth": 0,
             "ticks": ""
            },
            "colorscale": [
             [
              0,
              "#0d0887"
             ],
             [
              0.1111111111111111,
              "#46039f"
             ],
             [
              0.2222222222222222,
              "#7201a8"
             ],
             [
              0.3333333333333333,
              "#9c179e"
             ],
             [
              0.4444444444444444,
              "#bd3786"
             ],
             [
              0.5555555555555556,
              "#d8576b"
             ],
             [
              0.6666666666666666,
              "#ed7953"
             ],
             [
              0.7777777777777778,
              "#fb9f3a"
             ],
             [
              0.8888888888888888,
              "#fdca26"
             ],
             [
              1,
              "#f0f921"
             ]
            ],
            "type": "surface"
           }
          ],
          "table": [
           {
            "cells": {
             "fill": {
              "color": "#EBF0F8"
             },
             "line": {
              "color": "white"
             }
            },
            "header": {
             "fill": {
              "color": "#C8D4E3"
             },
             "line": {
              "color": "white"
             }
            },
            "type": "table"
           }
          ]
         },
         "layout": {
          "annotationdefaults": {
           "arrowcolor": "#2a3f5f",
           "arrowhead": 0,
           "arrowwidth": 1
          },
          "autotypenumbers": "strict",
          "coloraxis": {
           "colorbar": {
            "outlinewidth": 0,
            "ticks": ""
           }
          },
          "colorscale": {
           "diverging": [
            [
             0,
             "#8e0152"
            ],
            [
             0.1,
             "#c51b7d"
            ],
            [
             0.2,
             "#de77ae"
            ],
            [
             0.3,
             "#f1b6da"
            ],
            [
             0.4,
             "#fde0ef"
            ],
            [
             0.5,
             "#f7f7f7"
            ],
            [
             0.6,
             "#e6f5d0"
            ],
            [
             0.7,
             "#b8e186"
            ],
            [
             0.8,
             "#7fbc41"
            ],
            [
             0.9,
             "#4d9221"
            ],
            [
             1,
             "#276419"
            ]
           ],
           "sequential": [
            [
             0,
             "#0d0887"
            ],
            [
             0.1111111111111111,
             "#46039f"
            ],
            [
             0.2222222222222222,
             "#7201a8"
            ],
            [
             0.3333333333333333,
             "#9c179e"
            ],
            [
             0.4444444444444444,
             "#bd3786"
            ],
            [
             0.5555555555555556,
             "#d8576b"
            ],
            [
             0.6666666666666666,
             "#ed7953"
            ],
            [
             0.7777777777777778,
             "#fb9f3a"
            ],
            [
             0.8888888888888888,
             "#fdca26"
            ],
            [
             1,
             "#f0f921"
            ]
           ],
           "sequentialminus": [
            [
             0,
             "#0d0887"
            ],
            [
             0.1111111111111111,
             "#46039f"
            ],
            [
             0.2222222222222222,
             "#7201a8"
            ],
            [
             0.3333333333333333,
             "#9c179e"
            ],
            [
             0.4444444444444444,
             "#bd3786"
            ],
            [
             0.5555555555555556,
             "#d8576b"
            ],
            [
             0.6666666666666666,
             "#ed7953"
            ],
            [
             0.7777777777777778,
             "#fb9f3a"
            ],
            [
             0.8888888888888888,
             "#fdca26"
            ],
            [
             1,
             "#f0f921"
            ]
           ]
          },
          "colorway": [
           "#636efa",
           "#EF553B",
           "#00cc96",
           "#ab63fa",
           "#FFA15A",
           "#19d3f3",
           "#FF6692",
           "#B6E880",
           "#FF97FF",
           "#FECB52"
          ],
          "font": {
           "color": "#2a3f5f"
          },
          "geo": {
           "bgcolor": "white",
           "lakecolor": "white",
           "landcolor": "#E5ECF6",
           "showlakes": true,
           "showland": true,
           "subunitcolor": "white"
          },
          "hoverlabel": {
           "align": "left"
          },
          "hovermode": "closest",
          "mapbox": {
           "style": "light"
          },
          "paper_bgcolor": "white",
          "plot_bgcolor": "#E5ECF6",
          "polar": {
           "angularaxis": {
            "gridcolor": "white",
            "linecolor": "white",
            "ticks": ""
           },
           "bgcolor": "#E5ECF6",
           "radialaxis": {
            "gridcolor": "white",
            "linecolor": "white",
            "ticks": ""
           }
          },
          "scene": {
           "xaxis": {
            "backgroundcolor": "#E5ECF6",
            "gridcolor": "white",
            "gridwidth": 2,
            "linecolor": "white",
            "showbackground": true,
            "ticks": "",
            "zerolinecolor": "white"
           },
           "yaxis": {
            "backgroundcolor": "#E5ECF6",
            "gridcolor": "white",
            "gridwidth": 2,
            "linecolor": "white",
            "showbackground": true,
            "ticks": "",
            "zerolinecolor": "white"
           },
           "zaxis": {
            "backgroundcolor": "#E5ECF6",
            "gridcolor": "white",
            "gridwidth": 2,
            "linecolor": "white",
            "showbackground": true,
            "ticks": "",
            "zerolinecolor": "white"
           }
          },
          "shapedefaults": {
           "line": {
            "color": "#2a3f5f"
           }
          },
          "ternary": {
           "aaxis": {
            "gridcolor": "white",
            "linecolor": "white",
            "ticks": ""
           },
           "baxis": {
            "gridcolor": "white",
            "linecolor": "white",
            "ticks": ""
           },
           "bgcolor": "#E5ECF6",
           "caxis": {
            "gridcolor": "white",
            "linecolor": "white",
            "ticks": ""
           }
          },
          "title": {
           "x": 0.05
          },
          "xaxis": {
           "automargin": true,
           "gridcolor": "white",
           "linecolor": "white",
           "ticks": "",
           "title": {
            "standoff": 15
           },
           "zerolinecolor": "white",
           "zerolinewidth": 2
          },
          "yaxis": {
           "automargin": true,
           "gridcolor": "white",
           "linecolor": "white",
           "ticks": "",
           "title": {
            "standoff": 15
           },
           "zerolinecolor": "white",
           "zerolinewidth": 2
          }
         }
        },
        "xaxis": {
         "title": {
          "text": "Danceability"
         }
        },
        "yaxis": {
         "title": {
          "text": "Energy"
         }
        }
       }
      }
     },
     "metadata": {},
     "output_type": "display_data"
    }
   ],
   "source": [
    "import plotly.graph_objects as go\n",
    "\n",
    "n_aleatorio = 20\n",
    "fig = go.Figure(data=[\n",
    "    go.Scatter(x=[recomendacoes['danceability'].iloc[0]], y=[recomendacoes['energy'].iloc[0]], \n",
    "               mode='markers', marker=dict(size=12, color='red'), name='Musica do usuário'),\n",
    "\n",
    "    go.Scatter(x=recomendacoes['danceability'].iloc[1:], y=recomendacoes['energy'].iloc[1:], \n",
    "               mode='markers', marker=dict(size=10, color='blue'), name='Recomendações'),\n",
    "\n",
    "    go.Scatter(x=df3.sample(n_aleatorio, random_state=42)['danceability'], y=df3.sample(n_aleatorio, random_state=42)['energy'], \n",
    "               mode='markers', marker=dict(size=8, color='green'), name='Pontos Aleatórios')\n",
    "])\n",
    "\n",
    "fig.update_layout(\n",
    "    xaxis_title='Danceability',\n",
    "    yaxis_title='Energy',\n",
    "    showlegend=True\n",
    ")\n",
    "\n",
    "fig.show()"
   ]
  },
  {
   "cell_type": "code",
   "execution_count": 17,
   "metadata": {},
   "outputs": [
    {
     "data": {
      "application/vnd.plotly.v1+json": {
       "config": {
        "plotlyServerURL": "https://plot.ly"
       },
       "data": [
        {
         "marker": {
          "color": "red",
          "size": 8
         },
         "mode": "markers",
         "name": "Música selecionada",
         "text": [
          "Ghost - Acoustic"
         ],
         "type": "scatter3d",
         "x": [
          0.42
         ],
         "y": [
          0.166
         ],
         "z": [
          0.00000556
         ]
        },
        {
         "marker": {
          "color": "blue",
          "size": 6
         },
         "mode": "markers",
         "name": "Recomendações",
         "text": [
          "Carmen, Act II: No.15 Quintette : Nous avons en tête une affaire (Le Dancaïro/Frasquita/Mercédès/Le Remendado/Carmen)",
          "Nuestro Gran Amor",
          "For All You Give (feat. Lucy Rose)",
          "rm1210 - Live"
         ],
         "type": "scatter3d",
         "x": {
          "bdata": "/Knx0k1i2D/RItv5fmrcP6wcWmQ7398/aJHtfD813j8=",
          "dtype": "f8"
         },
         "y": {
          "bdata": "2c73U+Olyz80orQ3+MK0P5MYBFYOLcI//Knx0k1i0D8=",
          "dtype": "f8"
         },
         "z": {
          "bdata": "bEXVjmZVyT4AAAAAAAAAAOiC+pY5XWY/OdbFbTSApz8=",
          "dtype": "f8"
         }
        },
        {
         "marker": {
          "color": "green",
          "size": 4
         },
         "mode": "markers",
         "name": "Outras músicas",
         "text": [
          "Essence (feat. Tems)",
          "Atlas",
          "Glob - Ben Klock Remix 1",
          "We Know The Way - Finale",
          "Eu Não Perdi o Controle (Ao Vivo)",
          "Maloqueiro Visionário",
          "Rock'n'roll Good-bye",
          "月曜日の朝、スカートを切られた",
          "A Plena Vista",
          "Mi Error Preferido",
          "High Grade",
          "We're Finally Landing",
          "A Willie Nice Christmas",
          "En Paz Conmigo",
          "Left Me To Die",
          "Who's Your Farmer",
          "Cerulean Secrets",
          "Acid Rush - Extended Vokal mixX",
          "MUKANJYO (TV size)",
          "Shelley (Live)",
          "This Means War",
          "Rattlesnakes",
          "Júrame",
          "Outomorrow - Anyma, Kevin de Vries Remix",
          "愛しい人よGood Night…",
          "Soledad",
          "Very Hungry Lion Island",
          "Biste braun, kriegste Fraun - Aprés Ski-Version",
          "La Última Y Me Voy",
          "Quando a Gente Ama",
          "Tere Toor",
          "When God Comes And Gathers His Jewels",
          "Trick or beats?",
          "Ek Raat",
          "Colorado",
          "Midnight In A Perfect World",
          "Sonho Real - Ao Vivo",
          "Equanimity",
          "Guyver",
          "Tremidinha - Ao Vivo",
          "Calabria - Firebeatz Remix",
          "Under the Sea - From \"The Little Mermaid\" / Soundtrack Version",
          "Alice (Não Me Escreva Aquela Carta de Amor) / Conspiração Internacional - Ao Vivo",
          "Belfast",
          "It Ruff",
          "Electro Movimiento",
          "Between Thoughts",
          "Levanta e Vai",
          "Caminito - Remastered",
          "Piano Concerto"
         ],
         "type": "scatter3d",
         "x": {
          "bdata": "XrpJDAIr6z/l0CLb+X7aP4cW2c73U+s/rkfhehSu3z9QjZduEoPgPw4tsp3vp+Y/YOXQItv55j9/arx0kxjgP/YoXI/C9eg/TmIQWDm06D/jpZvEILDmP2IQWDm0yN4/gZVDi2zn4z8CK4cW2c7fP9V46SYxCOw/LbKd76fG4z83iUFg5dDCP8l2vp8aL+k/PzVeukkM2j/ZzvdT46XbP2Q730+Nl94/ObTIdr6f2j+Nl24Sg8DSP+58PzVeuuU/eekmMQis3D8fhetRuB7hPx+F61G4HuE/sp3vp8ZL5z8dWmQ730/dPyPb+X5qvNw/AiuHFtnO5z9mZmZmZmbePwRWDi2ynec/pHA9Ctej5D/Xo3A9CtfbP3Noke18P+U/tvP91Hjp4j8hsHJoke3gP0oMAiuHFuU/WmQ730+N5z8nMQisHFrkP8P1KFyPwuU/vp8aL90k4j8hsHJoke3cP39qvHSTGOQ/GQRWDi2y6T9SuB6F61HkP23n+6nx0uE/uB6F61G43j99PzVeukncPw==",
          "dtype": "f8"
         },
         "y": {
          "bdata": "ObTIdr6f5j+cxCCwcmjBP/LSTWIQWOU/DAIrhxbZ6j9SuB6F61HgP2ZmZmZmZt4/9P3UeOkm7T+0yHa+nxrrPzEIrBxaZOs/CtejcD0K5z8zMzMzMzPvP0a28/3UeOE/JzEIrBxa5D83iUFg5dDqP/7UeOkmMdg/WmQ730+N6z9xPQrXo3C9P05iEFg5tOw/O99PjZdu7j/Jdr6fGi/tP/hT46WbxOw/QmDl0CLb6T89CtejcD3aPz0K16NwPeo/Rrbz/dR45T9OYhBYObTsPxkEVg4tsuU/oBov3SQG7T8Sg8DKoUXuP+xRuB6F6+U/MQisHFpk5z9I4XoUrkfRP799HThnRLk/SgwCK4cW4T9QjZduEoPsP8/3U+Olm+Q/nMQgsHJo7T/+1HjpJjHYPy/dJAaBlds/sp3vp8ZL7z9U46WbxCDsP28Sg8DKod0/YOXQItv53j9t5/up8dLpP0oMAiuHFuk/hetRuB6F6z++nxov3STmP7ByaJHtfO8/QmDl0CLbuT9OYhBYObTIPw==",
          "dtype": "f8"
         },
         "z": {
          "bdata": "fq2FOFr+4T4OLbKd76fuP5ZDi2zn++0/6CHHlBey3T4AAAAAAAAAAAAAAAAAAAAAHCRE+YIWAj8AAAAAAAAAAAAAAAAAAAAA1XlU/N8RRT+sHFpkO9/fPwMJih9j7po/zNQkeEMaJT9K1Gb3PxsUPwAAAAAAAAAAAAAAAAAAAABaZDvfT43rP3e+nxov3ew/AAAAAAAAAAAH8BZIUPyIPxoLVBBN6vU+oCV+e40T9T6vlGWIY12cP9ejcD0K1+s/GRQ4n1tk4j4VjErqBDRRPwAAAAAAAAAACuDBqtWyED/xaOOItfj0Puxm64Wn/AA/GJmAXyNJUD/zdRn+0w0kPxSuR+F6FOo/xcX2/xYJ0j5mvRjKiXZlP/T91HjpJuU/kunQ6Xk3Nj/y0k1iEFjtP9nO91PjpdM/AAAAAAAAAAAlBoGVQ4vcPwAAAAAAAAAAAAAAAAAAAACAn3HhQEh2PwAAAAAAAAAAWP58W7BUBz9iEFg5tMjqPwAAAAAAAAAAzsnmBTMB6j66SQwCK4fqPw==",
          "dtype": "f8"
         }
        }
       ],
       "layout": {
        "scene": {
         "xaxis": {
          "title": {
           "text": "Danceability"
          }
         },
         "yaxis": {
          "title": {
           "text": "Energy"
          }
         },
         "zaxis": {
          "title": {
           "text": "Valence"
          }
         }
        },
        "template": {
         "data": {
          "bar": [
           {
            "error_x": {
             "color": "#2a3f5f"
            },
            "error_y": {
             "color": "#2a3f5f"
            },
            "marker": {
             "line": {
              "color": "#E5ECF6",
              "width": 0.5
             },
             "pattern": {
              "fillmode": "overlay",
              "size": 10,
              "solidity": 0.2
             }
            },
            "type": "bar"
           }
          ],
          "barpolar": [
           {
            "marker": {
             "line": {
              "color": "#E5ECF6",
              "width": 0.5
             },
             "pattern": {
              "fillmode": "overlay",
              "size": 10,
              "solidity": 0.2
             }
            },
            "type": "barpolar"
           }
          ],
          "carpet": [
           {
            "aaxis": {
             "endlinecolor": "#2a3f5f",
             "gridcolor": "white",
             "linecolor": "white",
             "minorgridcolor": "white",
             "startlinecolor": "#2a3f5f"
            },
            "baxis": {
             "endlinecolor": "#2a3f5f",
             "gridcolor": "white",
             "linecolor": "white",
             "minorgridcolor": "white",
             "startlinecolor": "#2a3f5f"
            },
            "type": "carpet"
           }
          ],
          "choropleth": [
           {
            "colorbar": {
             "outlinewidth": 0,
             "ticks": ""
            },
            "type": "choropleth"
           }
          ],
          "contour": [
           {
            "colorbar": {
             "outlinewidth": 0,
             "ticks": ""
            },
            "colorscale": [
             [
              0,
              "#0d0887"
             ],
             [
              0.1111111111111111,
              "#46039f"
             ],
             [
              0.2222222222222222,
              "#7201a8"
             ],
             [
              0.3333333333333333,
              "#9c179e"
             ],
             [
              0.4444444444444444,
              "#bd3786"
             ],
             [
              0.5555555555555556,
              "#d8576b"
             ],
             [
              0.6666666666666666,
              "#ed7953"
             ],
             [
              0.7777777777777778,
              "#fb9f3a"
             ],
             [
              0.8888888888888888,
              "#fdca26"
             ],
             [
              1,
              "#f0f921"
             ]
            ],
            "type": "contour"
           }
          ],
          "contourcarpet": [
           {
            "colorbar": {
             "outlinewidth": 0,
             "ticks": ""
            },
            "type": "contourcarpet"
           }
          ],
          "heatmap": [
           {
            "colorbar": {
             "outlinewidth": 0,
             "ticks": ""
            },
            "colorscale": [
             [
              0,
              "#0d0887"
             ],
             [
              0.1111111111111111,
              "#46039f"
             ],
             [
              0.2222222222222222,
              "#7201a8"
             ],
             [
              0.3333333333333333,
              "#9c179e"
             ],
             [
              0.4444444444444444,
              "#bd3786"
             ],
             [
              0.5555555555555556,
              "#d8576b"
             ],
             [
              0.6666666666666666,
              "#ed7953"
             ],
             [
              0.7777777777777778,
              "#fb9f3a"
             ],
             [
              0.8888888888888888,
              "#fdca26"
             ],
             [
              1,
              "#f0f921"
             ]
            ],
            "type": "heatmap"
           }
          ],
          "histogram": [
           {
            "marker": {
             "pattern": {
              "fillmode": "overlay",
              "size": 10,
              "solidity": 0.2
             }
            },
            "type": "histogram"
           }
          ],
          "histogram2d": [
           {
            "colorbar": {
             "outlinewidth": 0,
             "ticks": ""
            },
            "colorscale": [
             [
              0,
              "#0d0887"
             ],
             [
              0.1111111111111111,
              "#46039f"
             ],
             [
              0.2222222222222222,
              "#7201a8"
             ],
             [
              0.3333333333333333,
              "#9c179e"
             ],
             [
              0.4444444444444444,
              "#bd3786"
             ],
             [
              0.5555555555555556,
              "#d8576b"
             ],
             [
              0.6666666666666666,
              "#ed7953"
             ],
             [
              0.7777777777777778,
              "#fb9f3a"
             ],
             [
              0.8888888888888888,
              "#fdca26"
             ],
             [
              1,
              "#f0f921"
             ]
            ],
            "type": "histogram2d"
           }
          ],
          "histogram2dcontour": [
           {
            "colorbar": {
             "outlinewidth": 0,
             "ticks": ""
            },
            "colorscale": [
             [
              0,
              "#0d0887"
             ],
             [
              0.1111111111111111,
              "#46039f"
             ],
             [
              0.2222222222222222,
              "#7201a8"
             ],
             [
              0.3333333333333333,
              "#9c179e"
             ],
             [
              0.4444444444444444,
              "#bd3786"
             ],
             [
              0.5555555555555556,
              "#d8576b"
             ],
             [
              0.6666666666666666,
              "#ed7953"
             ],
             [
              0.7777777777777778,
              "#fb9f3a"
             ],
             [
              0.8888888888888888,
              "#fdca26"
             ],
             [
              1,
              "#f0f921"
             ]
            ],
            "type": "histogram2dcontour"
           }
          ],
          "mesh3d": [
           {
            "colorbar": {
             "outlinewidth": 0,
             "ticks": ""
            },
            "type": "mesh3d"
           }
          ],
          "parcoords": [
           {
            "line": {
             "colorbar": {
              "outlinewidth": 0,
              "ticks": ""
             }
            },
            "type": "parcoords"
           }
          ],
          "pie": [
           {
            "automargin": true,
            "type": "pie"
           }
          ],
          "scatter": [
           {
            "fillpattern": {
             "fillmode": "overlay",
             "size": 10,
             "solidity": 0.2
            },
            "type": "scatter"
           }
          ],
          "scatter3d": [
           {
            "line": {
             "colorbar": {
              "outlinewidth": 0,
              "ticks": ""
             }
            },
            "marker": {
             "colorbar": {
              "outlinewidth": 0,
              "ticks": ""
             }
            },
            "type": "scatter3d"
           }
          ],
          "scattercarpet": [
           {
            "marker": {
             "colorbar": {
              "outlinewidth": 0,
              "ticks": ""
             }
            },
            "type": "scattercarpet"
           }
          ],
          "scattergeo": [
           {
            "marker": {
             "colorbar": {
              "outlinewidth": 0,
              "ticks": ""
             }
            },
            "type": "scattergeo"
           }
          ],
          "scattergl": [
           {
            "marker": {
             "colorbar": {
              "outlinewidth": 0,
              "ticks": ""
             }
            },
            "type": "scattergl"
           }
          ],
          "scattermap": [
           {
            "marker": {
             "colorbar": {
              "outlinewidth": 0,
              "ticks": ""
             }
            },
            "type": "scattermap"
           }
          ],
          "scattermapbox": [
           {
            "marker": {
             "colorbar": {
              "outlinewidth": 0,
              "ticks": ""
             }
            },
            "type": "scattermapbox"
           }
          ],
          "scatterpolar": [
           {
            "marker": {
             "colorbar": {
              "outlinewidth": 0,
              "ticks": ""
             }
            },
            "type": "scatterpolar"
           }
          ],
          "scatterpolargl": [
           {
            "marker": {
             "colorbar": {
              "outlinewidth": 0,
              "ticks": ""
             }
            },
            "type": "scatterpolargl"
           }
          ],
          "scatterternary": [
           {
            "marker": {
             "colorbar": {
              "outlinewidth": 0,
              "ticks": ""
             }
            },
            "type": "scatterternary"
           }
          ],
          "surface": [
           {
            "colorbar": {
             "outlinewidth": 0,
             "ticks": ""
            },
            "colorscale": [
             [
              0,
              "#0d0887"
             ],
             [
              0.1111111111111111,
              "#46039f"
             ],
             [
              0.2222222222222222,
              "#7201a8"
             ],
             [
              0.3333333333333333,
              "#9c179e"
             ],
             [
              0.4444444444444444,
              "#bd3786"
             ],
             [
              0.5555555555555556,
              "#d8576b"
             ],
             [
              0.6666666666666666,
              "#ed7953"
             ],
             [
              0.7777777777777778,
              "#fb9f3a"
             ],
             [
              0.8888888888888888,
              "#fdca26"
             ],
             [
              1,
              "#f0f921"
             ]
            ],
            "type": "surface"
           }
          ],
          "table": [
           {
            "cells": {
             "fill": {
              "color": "#EBF0F8"
             },
             "line": {
              "color": "white"
             }
            },
            "header": {
             "fill": {
              "color": "#C8D4E3"
             },
             "line": {
              "color": "white"
             }
            },
            "type": "table"
           }
          ]
         },
         "layout": {
          "annotationdefaults": {
           "arrowcolor": "#2a3f5f",
           "arrowhead": 0,
           "arrowwidth": 1
          },
          "autotypenumbers": "strict",
          "coloraxis": {
           "colorbar": {
            "outlinewidth": 0,
            "ticks": ""
           }
          },
          "colorscale": {
           "diverging": [
            [
             0,
             "#8e0152"
            ],
            [
             0.1,
             "#c51b7d"
            ],
            [
             0.2,
             "#de77ae"
            ],
            [
             0.3,
             "#f1b6da"
            ],
            [
             0.4,
             "#fde0ef"
            ],
            [
             0.5,
             "#f7f7f7"
            ],
            [
             0.6,
             "#e6f5d0"
            ],
            [
             0.7,
             "#b8e186"
            ],
            [
             0.8,
             "#7fbc41"
            ],
            [
             0.9,
             "#4d9221"
            ],
            [
             1,
             "#276419"
            ]
           ],
           "sequential": [
            [
             0,
             "#0d0887"
            ],
            [
             0.1111111111111111,
             "#46039f"
            ],
            [
             0.2222222222222222,
             "#7201a8"
            ],
            [
             0.3333333333333333,
             "#9c179e"
            ],
            [
             0.4444444444444444,
             "#bd3786"
            ],
            [
             0.5555555555555556,
             "#d8576b"
            ],
            [
             0.6666666666666666,
             "#ed7953"
            ],
            [
             0.7777777777777778,
             "#fb9f3a"
            ],
            [
             0.8888888888888888,
             "#fdca26"
            ],
            [
             1,
             "#f0f921"
            ]
           ],
           "sequentialminus": [
            [
             0,
             "#0d0887"
            ],
            [
             0.1111111111111111,
             "#46039f"
            ],
            [
             0.2222222222222222,
             "#7201a8"
            ],
            [
             0.3333333333333333,
             "#9c179e"
            ],
            [
             0.4444444444444444,
             "#bd3786"
            ],
            [
             0.5555555555555556,
             "#d8576b"
            ],
            [
             0.6666666666666666,
             "#ed7953"
            ],
            [
             0.7777777777777778,
             "#fb9f3a"
            ],
            [
             0.8888888888888888,
             "#fdca26"
            ],
            [
             1,
             "#f0f921"
            ]
           ]
          },
          "colorway": [
           "#636efa",
           "#EF553B",
           "#00cc96",
           "#ab63fa",
           "#FFA15A",
           "#19d3f3",
           "#FF6692",
           "#B6E880",
           "#FF97FF",
           "#FECB52"
          ],
          "font": {
           "color": "#2a3f5f"
          },
          "geo": {
           "bgcolor": "white",
           "lakecolor": "white",
           "landcolor": "#E5ECF6",
           "showlakes": true,
           "showland": true,
           "subunitcolor": "white"
          },
          "hoverlabel": {
           "align": "left"
          },
          "hovermode": "closest",
          "mapbox": {
           "style": "light"
          },
          "paper_bgcolor": "white",
          "plot_bgcolor": "#E5ECF6",
          "polar": {
           "angularaxis": {
            "gridcolor": "white",
            "linecolor": "white",
            "ticks": ""
           },
           "bgcolor": "#E5ECF6",
           "radialaxis": {
            "gridcolor": "white",
            "linecolor": "white",
            "ticks": ""
           }
          },
          "scene": {
           "xaxis": {
            "backgroundcolor": "#E5ECF6",
            "gridcolor": "white",
            "gridwidth": 2,
            "linecolor": "white",
            "showbackground": true,
            "ticks": "",
            "zerolinecolor": "white"
           },
           "yaxis": {
            "backgroundcolor": "#E5ECF6",
            "gridcolor": "white",
            "gridwidth": 2,
            "linecolor": "white",
            "showbackground": true,
            "ticks": "",
            "zerolinecolor": "white"
           },
           "zaxis": {
            "backgroundcolor": "#E5ECF6",
            "gridcolor": "white",
            "gridwidth": 2,
            "linecolor": "white",
            "showbackground": true,
            "ticks": "",
            "zerolinecolor": "white"
           }
          },
          "shapedefaults": {
           "line": {
            "color": "#2a3f5f"
           }
          },
          "ternary": {
           "aaxis": {
            "gridcolor": "white",
            "linecolor": "white",
            "ticks": ""
           },
           "baxis": {
            "gridcolor": "white",
            "linecolor": "white",
            "ticks": ""
           },
           "bgcolor": "#E5ECF6",
           "caxis": {
            "gridcolor": "white",
            "linecolor": "white",
            "ticks": ""
           }
          },
          "title": {
           "x": 0.05
          },
          "xaxis": {
           "automargin": true,
           "gridcolor": "white",
           "linecolor": "white",
           "ticks": "",
           "title": {
            "standoff": 15
           },
           "zerolinecolor": "white",
           "zerolinewidth": 2
          },
          "yaxis": {
           "automargin": true,
           "gridcolor": "white",
           "linecolor": "white",
           "ticks": "",
           "title": {
            "standoff": 15
           },
           "zerolinecolor": "white",
           "zerolinewidth": 2
          }
         }
        }
       }
      }
     },
     "metadata": {},
     "output_type": "display_data"
    }
   ],
   "source": [
    "import plotly.graph_objects as go\n",
    "\n",
    "# Primeiro ponto (vermelho) e os outros 4 (azul) das recomendações\n",
    "fig = go.Figure(data=[\n",
    "    go.Scatter3d(x=[recomendacoes['danceability'].iloc[0]], y=[recomendacoes['energy'].iloc[0]], z=[recomendacoes['instrumentalness'].iloc[0]], \n",
    "                 mode='markers', marker=dict(size=8, color='red'), text=[recomendacoes['track_name'].iloc[0]], name = 'Música selecionada'),\n",
    "\n",
    "    go.Scatter3d(x=recomendacoes['danceability'].iloc[1:], y=recomendacoes['energy'].iloc[1:], z=recomendacoes['instrumentalness'].iloc[1:], \n",
    "                 mode='markers', marker=dict(size=6, color='blue'), text=recomendacoes['track_name'].iloc[1:], name = 'Recomendações'),\n",
    "\n",
    "    go.Scatter3d(x=df3.sample(50, random_state=42)['danceability'], y=df3.sample(50, random_state=42)['energy'], z=df3.sample(50, random_state=42)['instrumentalness'], \n",
    "                 mode='markers', marker=dict(size=4, color='green'), text=df3.sample(50, random_state=42)['track_name'], name = 'Outras músicas')\n",
    "])\n",
    "\n",
    "fig.update_layout(scene=dict(xaxis_title='Danceability', yaxis_title='Energy', zaxis_title='Valence'))\n",
    "\n",
    "fig.show()\n"
   ]
  }
 ],
 "metadata": {
  "kernelspec": {
   "display_name": "estudos",
   "language": "python",
   "name": "python3"
  },
  "language_info": {
   "codemirror_mode": {
    "name": "ipython",
    "version": 3
   },
   "file_extension": ".py",
   "mimetype": "text/x-python",
   "name": "python",
   "nbconvert_exporter": "python",
   "pygments_lexer": "ipython3",
   "version": "3.12.7"
  }
 },
 "nbformat": 4,
 "nbformat_minor": 2
}
